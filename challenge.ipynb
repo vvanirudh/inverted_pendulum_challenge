{
 "cells": [
  {
   "cell_type": "markdown",
   "metadata": {},
   "source": [
    "# Inverted Pendulum Control Challenge\n",
    "\n",
    "- Observation Space: Front-facing camera images of the cart-pendulum system (RGB images)\n",
    "- Control Space: Scalar acceleration applied to the cart (measured in m/s²)\n",
    "- Expert Data: Trajectories of expert demonstrations, each containing:\n",
    "    - 5 seconds of data\n",
    "    - Sampled at 10Hz (every 0.1s)\n",
    "    - Each sample is a pair of (image, control input)\n",
    "    - Total of 50 pairs per trajectory\n",
    "    - Number of Expert Trajectories: 100"
   ]
  },
  {
   "cell_type": "code",
   "execution_count": null,
   "metadata": {},
   "outputs": [],
   "source": [
    "import numpy as np\n",
    "import torch\n",
    "from torch.utils.data import Dataset, DataLoader, random_split\n",
    "from PIL import Image\n",
    "import os\n",
    "import torch.nn.functional as F\n",
    "import torch.nn as nn\n",
    "import torch.optim as optim\n",
    "import matplotlib.pyplot as plt\n",
    "import torchvision.transforms as transforms\n",
    "from env import PendulumEnv\n",
    "import time"
   ]
  },
  {
   "cell_type": "markdown",
   "metadata": {},
   "source": [
    "# Expert Dataset Class\n",
    "This is already implemented for you.\n",
    "\n",
    "You can modify the transforms being applied to the images"
   ]
  },
  {
   "cell_type": "code",
   "execution_count": null,
   "metadata": {},
   "outputs": [],
   "source": [
    "# Loading the expert data\n",
    "class PendulumDataset(Dataset):\n",
    "    def __init__(self, data_dir: str, transform=None):\n",
    "        \"\"\"\n",
    "        Args:\n",
    "            data_dir (str): Directory containing the expert trajectories\n",
    "            transform: Optional transforms to apply to the images\n",
    "        \"\"\"\n",
    "        self.data_dir = data_dir\n",
    "        self.transform = transform\n",
    "        self.samples = []\n",
    "\n",
    "        # Load all trajectory files\n",
    "        trajectory_files = [\n",
    "            f\n",
    "            for f in os.listdir(data_dir)\n",
    "            if f.startswith(\"trajectory_\") and f.endswith(\".npy\")\n",
    "        ]\n",
    "\n",
    "        for traj_file in trajectory_files:\n",
    "            # Load the trajectory data (images and control inputs)\n",
    "            traj_path = os.path.join(data_dir, traj_file)\n",
    "            traj_data = np.load(traj_path, allow_pickle=True)\n",
    "\n",
    "            # Each trajectory contains 50 (image, control) pairs\n",
    "            for i in range(len(traj_data)):\n",
    "                img_path = traj_data[i][\"image_path\"]\n",
    "                control = traj_data[i][\"control\"]\n",
    "                self.samples.append((img_path, control))\n",
    "\n",
    "    def __len__(self):\n",
    "        \"\"\"Return number of data points\"\"\"\n",
    "        return len(self.samples)\n",
    "\n",
    "    def __getitem__(self, idx):\n",
    "        \"\"\"Get the idx-th data point\"\"\"\n",
    "        img_path, control = self.samples[idx]\n",
    "\n",
    "        # Load and convert image\n",
    "        image = Image.open(img_path).convert(\"RGB\")\n",
    "        # Apply transforms if available\n",
    "        if self.transform:\n",
    "            image = self.transform(image)\n",
    "\n",
    "        # Convert control to tensor\n",
    "        control = torch.tensor(control, dtype=torch.float32)\n",
    "\n",
    "        return image, control"
   ]
  },
  {
   "cell_type": "markdown",
   "metadata": {},
   "source": [
    "# The pendulum controller\n",
    "This controller should take in the image input and output the force (scalar) to be applied to the cart to keep the pendulum upright.\n",
    "\n",
    "You will need to implement an architecture for your controller and implement its forward pass"
   ]
  },
  {
   "cell_type": "code",
   "execution_count": null,
   "metadata": {},
   "outputs": [],
   "source": [
    "# The model for the controller\n",
    "class PendulumController(nn.Module):\n",
    "    def __init__(self):\n",
    "        super(PendulumController, self).__init__()\n",
    "        # TODO: Add your layers here\n",
    "\n",
    "    def forward(self, x):\n",
    "        # TODO: Implement forward pass here\n",
    "        # Returning dummy control here, for now\n",
    "        return x.flatten()[0]"
   ]
  },
  {
   "cell_type": "markdown",
   "metadata": {},
   "source": [
    "# Training loop\n",
    "This function implements the main training loop. \n",
    "\n",
    "You will need to implement this function"
   ]
  },
  {
   "cell_type": "code",
   "execution_count": null,
   "metadata": {},
   "outputs": [],
   "source": [
    "# Main training loop\n",
    "def train_controller(model: PendulumController, data_loader: DataLoader, num_epochs: int, learning_rate:float):\n",
    "    \"\"\"\n",
    "    Train the pendulum controller model\n",
    "\n",
    "    Args:\n",
    "        model: The neural network model\n",
    "        data_loader: DataLoader containing the training data\n",
    "        num_epochs: Number of training epochs\n",
    "        learning_rate: Learning rate for the optimizer\n",
    "\n",
    "    Returns:\n",
    "        Lists of training loss values\n",
    "    \"\"\"\n",
    "    # TODO: Implement the training loop here\n",
    "    train_losses = [np.inf for _ in range(num_epochs)]\n",
    "    return train_losses"
   ]
  },
  {
   "cell_type": "markdown",
   "metadata": {},
   "source": [
    "# Evaluation\n",
    "This function computes the metric that you want to optimize on a given dataset.\n",
    "\n",
    "This is optional, but feel free to implement a metric here that you can use for evaluation"
   ]
  },
  {
   "cell_type": "code",
   "execution_count": null,
   "metadata": {},
   "outputs": [],
   "source": [
    "# Compute error on specified dataset\n",
    "def evaluate_controller(model: PendulumController, data_loader: DataLoader):\n",
    "    \"\"\"\n",
    "    Evaluate the trained controller on a test set\n",
    "\n",
    "    Args:\n",
    "        model: The trained neural network model\n",
    "        data_loader: DataLoader containing the test data\n",
    "\n",
    "    Returns:\n",
    "        Error on the test set\n",
    "    \"\"\"\n",
    "    # TODO(optional): Implement the evaluation function\n",
    "    avg_loss = np.inf\n",
    "    return avg_loss"
   ]
  },
  {
   "cell_type": "markdown",
   "metadata": {},
   "source": [
    "# Main block\n",
    "This block of code combines all the components to train a controller, and optionally evaluate it."
   ]
  },
  {
   "cell_type": "code",
   "execution_count": null,
   "metadata": {},
   "outputs": [],
   "source": [
    "# Main function to train a model and evaluate it\n",
    "# Set random seed for reproducibility\n",
    "torch.manual_seed(42)\n",
    "np.random.seed(42)\n",
    "\n",
    "# TODO: Add any image transformations as needed\n",
    "transform = transforms.Compose([\n",
    "    transforms.ToTensor(),\n",
    "])\n",
    "\n",
    "# Create datasets\n",
    "data_dir = './pendulum_data'\n",
    "dataset = PendulumDataset(data_dir=data_dir, transform=transform)\n",
    "\n",
    "# Split into train and test sets (80/20 split)\n",
    "train_size = int(0.8 * len(dataset))\n",
    "test_size = len(dataset) - train_size\n",
    "train_dataset, test_dataset = random_split(dataset, [train_size, test_size])\n",
    "\n",
    "# Create data loaders\n",
    "train_loader = DataLoader(train_dataset, batch_size=32, shuffle=True, num_workers=4)\n",
    "test_loader = DataLoader(test_dataset, batch_size=32, shuffle=False, num_workers=4)\n",
    "\n",
    "# Initialize the model\n",
    "model = PendulumController()\n",
    "\n",
    "# Train the model\n",
    "train_losses = train_controller(model, train_loader, num_epochs=20, learning_rate=1e-3)\n",
    "\n",
    "# Plot training loss\n",
    "plt.figure(figsize=(10, 5))\n",
    "plt.plot(train_losses)\n",
    "plt.title('Training Loss')\n",
    "plt.xlabel('Epochs')\n",
    "plt.ylabel('Loss')\n",
    "plt.grid(True)\n",
    "plt.show()\n",
    "\n",
    "# Evaluate on test set\n",
    "test_loss = evaluate_controller(model, test_loader)\n",
    "print(f\"Loss on test set is {test_loss}\")\n",
    "\n",
    "# Save the model\n",
    "torch.save(model.state_dict(), 'pendulum_controller.pth')"
   ]
  },
  {
   "cell_type": "markdown",
   "metadata": {},
   "source": [
    "# Test the learned controller online\n",
    "The code blocks below use the trained controller to control the pendulum online in the environment."
   ]
  },
  {
   "cell_type": "code",
   "execution_count": null,
   "metadata": {},
   "outputs": [],
   "source": [
    "# Test the learned policy in simulation\n",
    "def test_controller_in_sim(model, num_episodes=5, max_steps=300):\n",
    "    \"\"\"\n",
    "    Test the trained controller in the simulation environment\n",
    "\n",
    "    Args:\n",
    "        model: Trained PendulumController model\n",
    "        num_episodes: Number of episodes to run\n",
    "        max_steps: Maximum steps per episode\n",
    "    \"\"\"\n",
    "    # Load the trained model\n",
    "    device = torch.device(\"cuda\" if torch.cuda.is_available() else \"cpu\")\n",
    "    model = model.to(device)\n",
    "    model.eval()\n",
    "\n",
    "    # Create the environment\n",
    "    env = PendulumEnv()\n",
    "\n",
    "    # TODO: Define the same transform used during training\n",
    "    transform = transforms.Compose([\n",
    "        transforms.ToTensor(),\n",
    "    ])\n",
    "\n",
    "    for episode in range(num_episodes):\n",
    "        print(f\"Episode {episode+1}/{num_episodes}\", flush=True)\n",
    "\n",
    "        # Reset environment\n",
    "        observation = env.reset()\n",
    "        failed = False\n",
    "        for step in range(max_steps):\n",
    "            # Process the observation\n",
    "            img_tensor = transform(observation).unsqueeze(0).to(device)\n",
    "\n",
    "            # Get action from policy\n",
    "            with torch.no_grad():\n",
    "                action = model(img_tensor).item()\n",
    "\n",
    "            # Take a step in the environment\n",
    "            observation, done = env.step(action)\n",
    "            env.render()\n",
    "\n",
    "            if done:\n",
    "                failed = True\n",
    "                print(f\"Episode ended after {step+1} steps\", flush=True)\n",
    "                break\n",
    "\n",
    "        if failed:\n",
    "            print(f\"Episode {episode+1} failed\", flush=True)\n",
    "        else:\n",
    "            print(f\"Episode {episode+1} passed\", flush=True)\n",
    "        time.sleep(1)  # Pause between episodes\n",
    "\n",
    "    env.close()"
   ]
  },
  {
   "cell_type": "code",
   "execution_count": null,
   "metadata": {},
   "outputs": [],
   "source": [
    "# Set random seed for reproducibility\n",
    "torch.manual_seed(42)\n",
    "np.random.seed(42)\n",
    "# Load the trained model\n",
    "model = PendulumController()\n",
    "device = torch.device(\"cuda\" if torch.cuda.is_available() else \"cpu\")\n",
    "if os.path.exists(\"pendulum_controller.pth\"):\n",
    "    model.load_state_dict(torch.load('pendulum_controller.pth', map_location=device))\n",
    "\n",
    "# Test in simulation\n",
    "test_controller_in_sim(model)"
   ]
  },
  {
   "cell_type": "code",
   "execution_count": null,
   "metadata": {},
   "outputs": [],
   "source": []
  },
  {
   "cell_type": "code",
   "execution_count": null,
   "metadata": {},
   "outputs": [],
   "source": []
  },
  {
   "cell_type": "code",
   "execution_count": null,
   "metadata": {},
   "outputs": [],
   "source": []
  }
 ],
 "metadata": {
  "kernelspec": {
   "display_name": "Python 3 (ipykernel)",
   "language": "python",
   "name": "python3"
  },
  "language_info": {
   "codemirror_mode": {
    "name": "ipython",
    "version": 3
   },
   "file_extension": ".py",
   "mimetype": "text/x-python",
   "name": "python",
   "nbconvert_exporter": "python",
   "pygments_lexer": "ipython3",
   "version": "3.10.12"
  }
 },
 "nbformat": 4,
 "nbformat_minor": 4
}
